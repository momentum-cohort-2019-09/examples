{
 "cells": [
  {
   "cell_type": "markdown",
   "metadata": {},
   "source": [
    "In order to write complex programs, we need some logic. \n",
    "\n",
    "If you think about programs like recipes, you'll think of conditional statements and loops. Here some examples:\n",
    "\n",
    "* Stir the mixture until it thickens.\n",
    "* Bake at 425 degrees for 11-13 minutes, or at 400 degrees for 15-17 for a crispier crust.\n",
    "* Cook on low for 8 hours, or on high for 3.5 hours.\n",
    "* Add the peppers once the onions are translucent.\n",
    "* Whip the eggs and sugar until they have stiff peaks."
   ]
  },
  {
   "cell_type": "markdown",
   "metadata": {},
   "source": [
    "# if statements"
   ]
  },
  {
   "cell_type": "markdown",
   "metadata": {},
   "source": [
    "Let's write a program to print some information about a user based on their age."
   ]
  },
  {
   "cell_type": "code",
   "execution_count": 8,
   "metadata": {},
   "outputs": [
    {
     "name": "stdout",
     "output_type": "stream",
     "text": [
      "What is your age? 42\n",
      "You are an adult.\n",
      "You are allowed to vote.\n"
     ]
    }
   ],
   "source": [
    "age_as_a_string = input(\"What is your age? \")\n",
    "age = int(age_as_a_string)\n",
    "if age >= 18:\n",
    "    print(\"You are an adult.\")\n",
    "    print(\"You are allowed to vote.\")\n",
    "else:\n",
    "    print(\"You are not allowed to vote.\")"
   ]
  },
  {
   "cell_type": "markdown",
   "metadata": {},
   "source": [
    "`if` statements can have more than two options, using the `elif` keyword."
   ]
  },
  {
   "cell_type": "code",
   "execution_count": 9,
   "metadata": {},
   "outputs": [
    {
     "name": "stdout",
     "output_type": "stream",
     "text": [
      "What is your age? 2\n",
      "You are not allowed to vote or drink.\n"
     ]
    }
   ],
   "source": [
    "age = int(input(\"What is your age? \"))\n",
    "if age >= 21:\n",
    "    print(\"You are allowed to vote and drink.\")\n",
    "elif age >= 18:\n",
    "    print(\"You are allowed to vote, but not drink.\")\n",
    "else:\n",
    "    print(\"You are not allowed to vote or drink.\")"
   ]
  },
  {
   "cell_type": "code",
   "execution_count": 9,
   "metadata": {},
   "outputs": [
    {
     "name": "stdout",
     "output_type": "stream",
     "text": [
      "Do you like a crispy crust? y\n",
      "Cool!\n"
     ]
    }
   ],
   "source": [
    "likes_crispy_crust = input(\"Do you like a crispy crust? \")\n",
    "if likes_crispy_crust == \"y\":\n",
    "    print(\"Cool!\")"
   ]
  },
  {
   "cell_type": "markdown",
   "metadata": {},
   "source": [
    "# while statements"
   ]
  },
  {
   "cell_type": "markdown",
   "metadata": {},
   "source": [
    "Here's a simple problem: print out all the numbers from 1 to 10."
   ]
  },
  {
   "cell_type": "code",
   "execution_count": 12,
   "metadata": {},
   "outputs": [
    {
     "name": "stdout",
     "output_type": "stream",
     "text": [
      "1\n",
      "2\n",
      "3\n",
      "4\n",
      "5\n",
      "6\n",
      "7\n",
      "8\n",
      "9\n",
      "10\n",
      "Done!\n"
     ]
    }
   ],
   "source": [
    "i = 1\n",
    "while i <= 10:\n",
    "    print(i)\n",
    "    i = i + 1\n",
    "print(\"Done!\")"
   ]
  },
  {
   "cell_type": "code",
   "execution_count": 13,
   "metadata": {},
   "outputs": [
    {
     "name": "stdout",
     "output_type": "stream",
     "text": [
      "Enter your name or 'Q' if you want to quit: Sawyer\n",
      "Hi Sawyer\n",
      "Enter your name or 'Q' if you want to quit: Imani\n",
      "Hi Imani\n",
      "Enter your name or 'Q' if you want to quit: Q\n",
      "Done!\n"
     ]
    }
   ],
   "source": [
    "quit = False\n",
    "while not quit:\n",
    "    user_input = input(\"Enter your name or 'Q' if you want to quit: \")\n",
    "    if user_input == \"Q\":\n",
    "        quit = True\n",
    "        print(\"Done!\")\n",
    "    else:\n",
    "        print(\"Hi\", user_input)"
   ]
  },
  {
   "cell_type": "code",
   "execution_count": null,
   "metadata": {},
   "outputs": [],
   "source": [
    "keep_going = True\n",
    "while keep_going:\n",
    "    user_input = input(\"Enter your name or hit enter if you want to quit: \")\n",
    "    if user_input:\n",
    "        print(\"Hi\", user_input)\n",
    "    else:\n",
    "        keep_going = False\n",
    "        \n",
    "print(\"Done!\")"
   ]
  },
  {
   "cell_type": "markdown",
   "metadata": {},
   "source": [
    "# Complex logic"
   ]
  },
  {
   "cell_type": "markdown",
   "metadata": {},
   "source": [
    "You can use `and` and `or` to combine predicates in `if` and `while` statements."
   ]
  },
  {
   "cell_type": "code",
   "execution_count": 23,
   "metadata": {},
   "outputs": [
    {
     "name": "stdout",
     "output_type": "stream",
     "text": [
      "What is your age? 42\n",
      "What is your name? Clinton\n"
     ]
    },
    {
     "ename": "TypeError",
     "evalue": "'>' not supported between instances of 'str' and 'int'",
     "output_type": "error",
     "traceback": [
      "\u001b[0;31m---------------------------------------------------------------------------\u001b[0m",
      "\u001b[0;31mTypeError\u001b[0m                                 Traceback (most recent call last)",
      "\u001b[0;32m<ipython-input-23-a18050df166f>\u001b[0m in \u001b[0;36m<module>\u001b[0;34m\u001b[0m\n\u001b[1;32m      1\u001b[0m \u001b[0mage\u001b[0m \u001b[0;34m=\u001b[0m \u001b[0minput\u001b[0m\u001b[0;34m(\u001b[0m\u001b[0;34m\"What is your age? \"\u001b[0m\u001b[0;34m)\u001b[0m\u001b[0;34m\u001b[0m\u001b[0m\n\u001b[1;32m      2\u001b[0m \u001b[0mname\u001b[0m \u001b[0;34m=\u001b[0m \u001b[0minput\u001b[0m\u001b[0;34m(\u001b[0m\u001b[0;34m\"What is your name? \"\u001b[0m\u001b[0;34m)\u001b[0m\u001b[0;34m\u001b[0m\u001b[0m\n\u001b[0;32m----> 3\u001b[0;31m \u001b[0;32mif\u001b[0m \u001b[0mname\u001b[0m \u001b[0;34m==\u001b[0m \u001b[0;34m\"Harper\"\u001b[0m \u001b[0;32mor\u001b[0m \u001b[0mage\u001b[0m \u001b[0;34m>\u001b[0m \u001b[0;36m50\u001b[0m\u001b[0;34m:\u001b[0m\u001b[0;34m\u001b[0m\u001b[0m\n\u001b[0m\u001b[1;32m      4\u001b[0m     \u001b[0mprint\u001b[0m\u001b[0;34m(\u001b[0m\u001b[0;34m\"You are wise.\"\u001b[0m\u001b[0;34m)\u001b[0m\u001b[0;34m\u001b[0m\u001b[0m\n",
      "\u001b[0;31mTypeError\u001b[0m: '>' not supported between instances of 'str' and 'int'"
     ]
    }
   ],
   "source": [
    "age = int(input(\"What is your age? \"))\n",
    "name = input(\"What is your name? \")\n",
    "if name == \"Harper\" or age > 50:\n",
    "    print(\"You are wise.\")"
   ]
  },
  {
   "cell_type": "code",
   "execution_count": 21,
   "metadata": {},
   "outputs": [
    {
     "name": "stdout",
     "output_type": "stream",
     "text": [
      "What is your age? 65\n",
      "What is your name? Harper\n",
      "Entrance into the halls of yore is granted.\n"
     ]
    }
   ],
   "source": [
    "age = int(input(\"What is your age? \"))\n",
    "name = input(\"What is your name? \")\n",
    "if name == \"Harper\" and age > 50:\n",
    "    print(\"Entrance into the halls of yore is granted.\")"
   ]
  },
  {
   "cell_type": "code",
   "execution_count": null,
   "metadata": {},
   "outputs": [],
   "source": []
  }
 ],
 "metadata": {
  "kernelspec": {
   "display_name": "Python 3",
   "language": "python",
   "name": "python3"
  },
  "language_info": {
   "codemirror_mode": {
    "name": "ipython",
    "version": 3
   },
   "file_extension": ".py",
   "mimetype": "text/x-python",
   "name": "python",
   "nbconvert_exporter": "python",
   "pygments_lexer": "ipython3",
   "version": "3.7.2"
  }
 },
 "nbformat": 4,
 "nbformat_minor": 1
}
